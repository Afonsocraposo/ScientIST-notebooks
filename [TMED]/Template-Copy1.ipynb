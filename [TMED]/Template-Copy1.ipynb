{
 "cells": [
  {
   "cell_type": "markdown",
   "metadata": {},
   "source": [
    " # <div  style=\"color:#303030;font-family:'arial blACK', sans-serif,monospace; text-align: center; padding: 50px 0; vertical-align:middle;\" > <img src=\"https://www.nicepng.com/png/full/204-2043038_white-lightbulb-icon-light-bulb-icon-white.png\" style=\" background:#00a0e4;border-radius:10px;width:150px;text-align:left\"  /> <span style=\"position:relative; bottom:75px; left:20px\">  Jazzing Up Your UIs </span> </div>"
   ]
  },
  {
   "cell_type": "markdown",
   "metadata": {},
   "source": [
    "# I. Introduction\n",
    "<br>\n",
    "<div style=\"width:100%; background:#00a0e4;font-family:'arial black',monospace; text-align: center; padding: 7px 0; border-radius: 5px 50px;margin-top:-15px\" >  </div>\n"
   ]
  },
  {
   "cell_type": "markdown",
   "metadata": {},
   "source": [
    "## <div style=\"color:#00a0e4\"> 1. Background </div>\n"
   ]
  },
  {
   "cell_type": "markdown",
   "metadata": {},
   "source": [
    "When programming for the web, there is a separation between content and\n",
    "formatting. While HTML is the standard to structure content targeting facilited cross-platform distribution and display, formatting is defined through a\n",
    "set of styling rules described in a language known as Cascading Style Sheets\n",
    "(CSS), which will be the focus of this lab. These offer a high degree of control and flexibility in what concerns the specification of how content is styled,\n",
    "with the advantage of promoting reuse and sharing across different web pages.\n",
    "Furthermore, it enables the same content to be presented with different styles\n",
    "depending on the rendering method (e.g. laptop/desktop, mobile, print, etc.).\n",
    "\n",
    "<img src=\"https://i.ibb.co/Tg9c443/CSS.png\" alt=\"CSS\" border=\"0\" width=\"200\">"
   ]
  },
  {
   "cell_type": "markdown",
   "metadata": {},
   "source": [
    "## <div style=\"color:#00a0e4\"> 2. Objectives</div>\n",
    "* Get familiar with Cascading Style Sheets (CSS)\n",
    "* Experiment with styling the elements of a web page\n",
    "* Learn how to apply advanced formatting rules"
   ]
  },
  {
   "cell_type": "markdown",
   "metadata": {},
   "source": [
    "## <div style=\"color:#00a0e4\"> 3. Materials (optional) </div>\n",
    "* HTML editor (e.g. Visual Studio Code, Spyder, Notepad++)\n",
    "* Google Chrome"
   ]
  },
  {
   "cell_type": "markdown",
   "metadata": {},
   "source": [
    "# II. Experimental\n",
    "<br>\n",
    "<div style=\"width:100%; background:#00a0e4;color:#282828;font-family:'arial black'; text-align: center; padding: 7px 0; border-radius: 5px 50px; margin-top:-15px\" > </div>"
   ]
  },
  {
   "cell_type": "markdown",
   "metadata": {},
   "source": [
    "### <div style=\"color:#00a0e4\">  1. Learning the Ropes </div>\n",
    "\n",
    "Rules defined in CSS can be used to define anything from colors, fonts type and\n",
    "size, border thickness and style. The goal of this experiment is for you to get\n",
    "familiar with the CSS notation and some of its possibilities:\n",
    "\n",
    "    1. Create a new (empty) HTML file in the Spyder IDE (or another HTML editor of your choice)\n",
    "\n",
    "    2. Write a document that reproduces the content shown in the following figure using HTML/CSS, with the latter defined at the document (not element) level\n",
    "    \n",
    "        Basic heart rate effort table:\n",
    "        \n",
    "<img src=\"https://i.ibb.co/xS4TgnL/HRETB.png\" alt=\"HRETB\" border=\"0\">\n",
    "\n",
    "    3. Open the HTML file using Google Chrome (if its open already, you can simply refresh the page) to confirm the result\n",
    "    \n",
    "   "
   ]
  },
  {
   "cell_type": "markdown",
   "metadata": {},
   "source": [
    "<div style=\"background:#00bfc2;font-family:'arial', monospace; text-align: center; padding: 10px 0; border-radius:10px; width:70%; margin:auto \" >\n",
    "  <span style=\"font-size:20px;position:relative;color:white; \">  Note </span> <br>\n",
    "  <div style=\"background:#9eddde;font-size:12px\"> \n",
    "    For comprehensive documentation on CSS rules and styling options refer to:\n",
    "      <a><center>https://www.w3schools.com/css/default.asp   </center></a> \n",
    "</div>"
   ]
  },
  {
   "cell_type": "markdown",
   "metadata": {},
   "source": [
    "### <div style=\"color:#00a0e4\">  2. Taking it up a Notch </div>\n",
    "\n",
    "CSS rules a wide array of options, such as rounded corners, automatically ad-\n",
    "justing the content to the viewport size, and many other. In addition, virtually any element can be styled using CSS; in this exercise you will have the change to create a document that adapts to the available width of the viewport and\n",
    "experiment with styling of a diversity of elements:\n",
    "\n",
    "    1. Create a new (empty) HTML file in the Spyder IDE (or another HTML editor of your choice)\n",
    "\n",
    "    2. Write a document that reproduces the content shown in the following figure using HTML/CSS, with the latter defined at the document (not element) level (note that the table with should adjust automatically to the screen  idth)\n",
    "\n",
    "        Heart rate effort table with input fields:\n",
    "        \n",
    "<img src=\"https://i.ibb.co/zsF3wg0/HRET.png\" alt=\"HRET\" border=\"0\">\n",
    "        \n",
    "    3. Open the HTML file using Google Chrome (if its open already, you can simply refresh the page) to confirm the result"
   ]
  },
  {
   "cell_type": "markdown",
   "metadata": {},
   "source": [
    "### <div style=\"color:#00a0e4\">   3. UIs Run on CSS </div>\n",
    "\n",
    "Many user interfaces (UI) that we interact with today, whether being on a web\n",
    "browser, desktop applications, mobile applications and others, have their styling\n",
    "defined by CSS. In this exercise you will be able to analyze and experiment with\n",
    "a standard web-base application layout using an approach known as responsive\n",
    "web design:\n",
    "\n",
    "1. Create a new (empty) HTML file in the Spyder IDE (or another HTML editor of your choice)\n",
    "\n",
    "2. Write a document that reproduces the content shown in the following figure. The source code available at:\n",
    "<a><center>https://www.w3schools.com/css/css_website_layout.asp)\n",
    "\n",
    "3. Open the HTML file using Google Chrome (if its open already, you can simply refresh the page) to confirm the result"
   ]
  },
  {
   "cell_type": "markdown",
   "metadata": {},
   "source": [
    "#### <div style=\"color:#00a0e4\">   3.1. Plot Example  </div>"
   ]
  },
  {
   "cell_type": "markdown",
   "metadata": {},
   "source": [
    "In the following examples, the library import are done at the beginning of the example cell, just exemplify the examples more easily. These comands should be, as seen, placed in the \"Requirements\" section, for which they will be here highlighted within <br>\n",
    "\n",
    "#---\n",
    "<br>\n",
    "import examples\n",
    "<br>\n",
    "#--- "
   ]
  },
  {
   "cell_type": "code",
   "execution_count": null,
   "metadata": {},
   "outputs": [],
   "source": [
    "# ---\n",
    "import matplotlib\n",
    "import matplotlib.pyplot as plt\n",
    "import numpy as np\n",
    "# to enable basic visualization tools troughout the whole notebook:\n",
    "!pip install mpld3 >/dev/null 2>&1\n",
    "import mpld3 \n",
    "mpld3.enable_notebook()\n",
    "# note: in case you are using subplots, this tool will not work. In those cells, please add the following command:\n",
    "# mpld3.enable_notebook()\n",
    "# ---\n",
    "\n",
    "# Data for plotting\n",
    "t = np.arange(0.0, 2.0, 0.01)\n",
    "s1 = 1 + np.sin(2 * np.pi * t)\n",
    "s2 = 2 + np.sin(1.5 * np.pi * t)\n",
    "\n",
    "# plot\n",
    "plt.title('Title of the plot', {'size':20})\n",
    "plt.xlabel('Time (s)', color=\"#00a0e4\")\n",
    "plt.ylabel('Angle [º]', color=\"#00a0e4\")\n",
    "plt.plot(t, s1, label='signal 1', color=\"#00bfc2\")\n",
    "plt.plot(t, s2, label='signal 2', color=\"#5756d6\")\n",
    "plt.legend()\n",
    "plt.show()\n",
    "\n"
   ]
  },
  {
   "cell_type": "markdown",
   "metadata": {},
   "source": [
    "#### <div style=\"color:#00a0e4\">   3.2. Table Example  </div>"
   ]
  },
  {
   "cell_type": "code",
   "execution_count": null,
   "metadata": {},
   "outputs": [],
   "source": [
    "#---\n",
    "import pandas as pd\n",
    "import csv\n",
    "#---\n",
    "\n",
    "url = 'https://raw.githubusercontent.com/JoanaFigPinto//notebooksIT/master/Example_Files/example-table.csv'\n",
    "dados = pd.read_csv(url, delimiter = ';')\n",
    "\n",
    "dados\n",
    "dados.style.set_table_styles([dict(selector=\"th\", props=[(\"font-size\", \"125%\"),(\"color\", \"black\"),\n",
    "                               (\"text-align\", \"center\")]), \n",
    "                             dict(selector=\"tr\", props=[(\"color\", \"#00a0e4\"),\n",
    "                               (\"text-align\", \"center\")])])"
   ]
  },
  {
   "cell_type": "markdown",
   "metadata": {},
   "source": [
    "#### <div style=\"color:#00a0e4\">   3.3. Referring to other notebooks/material - Example  </div>"
   ]
  },
  {
   "cell_type": "markdown",
   "metadata": {},
   "source": [
    "Throughout the text, it might be useful to refer to another notebooks or material saved in the repository. <br>\n",
    "That can be used the following example format:  <br>\n",
    "[OpenSignals](../1.Signal_Acquisition/OpenSignals.ipynb) <br>\n",
    "[ScienceJournal](../1.Signal_Acquisition/ScienceJournal.ipynb)"
   ]
  },
  {
   "cell_type": "markdown",
   "metadata": {},
   "source": [
    "#### <div style=\"color:#00a0e4\">   3.4. Notes and Warnings - Example  </div>"
   ]
  },
  {
   "cell_type": "markdown",
   "metadata": {},
   "source": [
    "<div style=\"background:#fada5e;font-family:'arial', monospace; text-align: center; padding: 10px 0; border-radius:10px; width:70%; margin:auto \" >\n",
    "  <span style=\"font-size:20px;position:relative;color:white; \">  Warning! </span> <br>\n",
    "  <div style=\"background:#fff3c4;font-size:12px\"> \n",
    "    The warning must be explained here...      \n",
    "</div>"
   ]
  },
  {
   "cell_type": "markdown",
   "metadata": {},
   "source": [
    "<div style=\"background:#62d321;font-family:'arial', monospace; text-align: center; padding: 10px 0; border-radius:10px; width:70%; margin:auto \" >\n",
    "  <span style=\"font-size:20px;position:relative;color:white; \"> Explore </span> <br>\n",
    "  <div style=\"background:#c5e8b0;font-size:12px\"> \n",
    "    The explore more advice must be explained here...      \n",
    "</div>"
   ]
  },
  {
   "cell_type": "markdown",
   "metadata": {},
   "source": [
    "<div style=\"background:#fe9b29;font-family:'arial', monospace; text-align: center; padding: 10px 0; border-radius:10px; width:70%; margin:auto \" >\n",
    "  <span style=\"font-size:20px;position:relative;color:white; \">  Caution! </span> <br>\n",
    "  <div style=\"background:#ffdab0;font-size:12px\"> \n",
    "    The caution must be explained here...     \n",
    "</div>"
   ]
  },
  {
   "cell_type": "markdown",
   "metadata": {},
   "source": [
    "# III. Explore\n",
    "<div class='h1'  style=\"width:100%; background:#00a0e4;color:#282828;font-family:'arial black'; text-align: center; padding: 7px 0; border-radius: 5px 50px;margin-top:-15px\" > </div>"
   ]
  },
  {
   "cell_type": "markdown",
   "metadata": {},
   "source": [
    "### <div style=\"color:#00a0e4\">  1. Quiz </div>\n",
    "\n",
    "    1. Adapt the document of Section II.1. in such way that the CSS rules are defined in a separate file rather than in a <style>...</style> section  f the HTML document.\n",
    "\n",
    "    2. Expand the document of Section II.2. to include a form and a reset button in addition to the existing submit one.\n",
    "\n",
    "    3. Modify the document of Section II.2. in such way that the default text presented in the textbox is cleared when the user starts to type.\n",
    "\n",
    "    4. Re-using code from the previous lab exercises, connect the document developed in Section II.2. to a Python server so that the user can input his/her age and see the actual heart rate values (in BPM) for each effort level instead of the %.\n",
    "\n",
    "    5. Using the document of Section II.3. as an example, create a basic personal web page to help present your group to others."
   ]
  },
  {
   "cell_type": "markdown",
   "metadata": {},
   "source": [
    "<div style=\"height:115px; background:white;border-radius:10px;text-align:center\"> \n",
    "\n",
    "<img src=\"https://www.lx.it.pt/~asmc/predict/images/IT.png\" alt=\"it\" style=\"position: relative; margin-left: 10px; bottom:-55px;max-width:150px;height:auto;\"/> \n",
    "<img src=\"https://cqe.tecnico.ulisboa.pt/files/files/logos/IST_A_RGB_POS.png\"\n",
    "         alt=\"alternate text\" \n",
    "         style=\"position: relative; margin-left: 10px;  bottom:-50px; width:150px;height:auto;\"/>\n",
    "</div> "
   ]
  },
  {
   "cell_type": "markdown",
   "metadata": {},
   "source": [
    "<div style=\"width: 100%; \">\n",
    "    <div style=\"background:#00a0e4;color:white;font-family:'arial', monospace; text-align: center; padding: 50px 0; border-radius:10px; height:10px; width:100%; float:left \" >\n",
    "  <span style=\"font-size:20px;position:relative; top:-25px\">  Suggestions are welcome! </span> <br>\n",
    " <span style=\"font-size:12px;position:relative; top:-25px\">  Please provide us your feedback at jehdwne@it.lx.pt</span> \n",
    "</div>"
   ]
  },
  {
   "cell_type": "code",
   "execution_count": null,
   "metadata": {},
   "outputs": [],
   "source": []
  },
  {
   "cell_type": "code",
   "execution_count": null,
   "metadata": {},
   "outputs": [],
   "source": []
  }
 ],
 "metadata": {
  "kernelspec": {
   "display_name": "Python 2",
   "language": "python",
   "name": "python2"
  },
  "language_info": {
   "codemirror_mode": {
    "name": "ipython",
    "version": 2
   },
   "file_extension": ".py",
   "mimetype": "text/x-python",
   "name": "python",
   "nbconvert_exporter": "python",
   "pygments_lexer": "ipython2",
   "version": "2.7.17"
  }
 },
 "nbformat": 4,
 "nbformat_minor": 4
}

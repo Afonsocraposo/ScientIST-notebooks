{
 "cells": [
  {
   "cell_type": "markdown",
   "metadata": {},
   "source": [
    " # <div  style=\"color:#303030;font-family:'arial blACK', sans-serif,monospace; text-align: center; padding: 50px 0; vertical-align:middle;\" > <img src=\"https://www.nicepng.com/png/full/204-2043038_white-lightbulb-icon-light-bulb-icon-white.png\" style=\" background:#00a0e4;border-radius:10px;width:150px;text-align:left\"  /> <span style=\"position:relative; bottom:75px; left:20px\">  Data Transmission </span> </div>"
   ]
  },
  {
   "cell_type": "markdown",
   "metadata": {},
   "source": [
    "# I. Introduction\n",
    "<div style=\"width:100%; background:#00a0e4;font-family:'arial black',monospace; text-align: center; padding: 7px 0; border-radius: 5px 50px;margin-top:-15px\" >  </div>\n"
   ]
  },
  {
   "cell_type": "markdown",
   "metadata": {},
   "source": [
    "This notebook provides an overview to the complete set of notebooks made available in this repository. Despite being grouped by category, these are independent an can be organized as most suits the purpose of the course."
   ]
  },
  {
   "cell_type": "markdown",
   "metadata": {},
   "source": [
    "## <div style=\"color:#00a0e4\"> 1. Background </div>\n",
    "\n",
    "Similarly to what happens in human communication, where there are the vocabulary, syntax, grammar and other language constructs designed for people to understand each other, digital systems also use a set of rules (known as protocols) to interact with each other. Any communication process always involves a transmitter (e.g. you) and a receiver (e.g. your colleague), which can generally change roles, but also a channel (e.g. air), through which the message is conveyed. In this lesson we will experiment with digital data transmission, in particular, using the computer as the transmitter/receiver, the Arduino as the receiver/transmitter, the asynchronous serial communication protocol as the “language” for them to understand each other, and the hardwired USB connection as the channel through which they communicate."
   ]
  },
  {
   "cell_type": "markdown",
   "metadata": {},
   "source": [
    "## <div style=\"color:#00a0e4\"> 2. Objectives</div>\n",
    "* Understand how to setup a data link between two digital systems\n",
    "* Stream sensor data to the computer in real time\n",
    "* Control an embedded system from the computer"
   ]
  },
  {
   "cell_type": "markdown",
   "metadata": {},
   "source": [
    "## <div style=\"color:#00a0e4\"> 3. Materials (optional) </div>\n",
    "* Arduino IDE\n",
    "* 1x Arduino Uno\n",
    "* 1x USB cable\n",
    "* 1x Breadboard\n",
    "* 1x Potentiometer\n",
    "* 1x RGB LED\n",
    "* 3x 330Ω resistor\n",
    "* 4x Jumper wires"
   ]
  },
  {
   "cell_type": "markdown",
   "metadata": {},
   "source": [
    "# II. Experimental\n",
    "\n",
    "<div style=\"width:100%; background:#00a0e4;color:#282828;font-family:'arial black'; text-align: center; padding: 7px 0; border-radius: 5px 50px; margin-top:-15px\" > </div>"
   ]
  },
  {
   "cell_type": "markdown",
   "metadata": {},
   "source": [
    "### <div style=\"color:#00a0e4\">  1. The Simplest Oscilloscope in the West </div>\n",
    "\n",
    "Now that we know how to work with transducers and obtain their readings\n",
    "on the Arduino, its time to share that information with other systems. In\n",
    "this experiment we will see how to read the analog pins on the Arduino and\n",
    "\n",
    "send the readings to our computer using the Universal Asynchronous Receiver-\n",
    "Transmitter (UART) port.\n",
    "\n",
    "1. Take the breadboard, the potentiometer and the jumper wires, and con-\n",
    "nect them to your Arduino as shown in Figure 3.1\n",
    "\n",
    "2. Open the Graph example sketch and review the code\n",
    "3. Modify the sketch in such a way that the digital codes produced by the\n",
    "ADC for the analog input being read are converted into the corresponding\n",
    "voltage reaching the pin\n",
    "4. Compile and upload the sketch to your Arduino board\n",
    "5. Open the Serial Plotter tool from the Arduino IDE (Figure 3.2)\n",
    "6. A time series showing the voltage plotted against “time” should start to\n",
    "appear on the screen\n",
    "7. Change the resistance values using the potentiometer to see the voltage\n",
    "changing in real time"
   ]
  },
  {
   "cell_type": "markdown",
   "metadata": {},
   "source": [
    "<div style=\"background:#62d321;font-family:'arial', monospace; text-align: center; padding: 10px 0; border-radius:10px; width:70%; margin:auto \" >\n",
    "  <span style=\"font-size:20px;position:relative;color:white; \"> Explore </span> <br>\n",
    "  <div style=\"background:white;\"> \n",
    "    Detailed information about the high-level functions available on the\n",
    "Arduino to interact with the serial port is available at:\n",
    "https://www.arduino.cc/reference/en/language/functions/communication/serial/      \n",
    "</div>"
   ]
  },
  {
   "cell_type": "markdown",
   "metadata": {},
   "source": [
    "### <div style=\"color:#00a0e4\">  2. Control Your Arduino from a Computer </div>\n",
    "\n",
    "We have seen how to use the Arduino as a transmitter and the computer as a\n",
    "receiver. Let’s reverse their roles and use the computer to control stuff on the Arduino. In this experiment we will see how to change the brightness of an LED based on numeric values sent by the computer.\n",
    "\n",
    "1. Take the breadboard, the 330Ω resistors, the jumper wires and the RGB\n",
    "LED, and connect them to your Arduino as shown in Figure 3.3\n",
    "\n",
    "2. Open the Dimmer example sketch and review the code\n",
    "3. Compile and upload the sketch to your Arduino board\n",
    "4. Open the Serial Monitor tool from the Arduino IDE (Figure 3.4)\n",
    "5. Sending bytes to the Arduino should cause the intensity of the RGB LED\n",
    "to change in the colour component connected to GPIO 9"
   ]
  },
  {
   "cell_type": "markdown",
   "metadata": {},
   "source": [
    "<div style=\"background:#fada5e;font-family:'arial', monospace; text-align: center; padding: 10px 0; border-radius:10px; width:70%; margin:auto \" >\n",
    "  <span style=\"font-size:20px;position:relative;color:white; \">  Warning! </span> <br>\n",
    "  <div style=\"background:white;\"> \n",
    "    The Serial.read() function reads bytes; as you know 1 byte is repre-\n",
    "sented as sequence of 8 bits (0’s and 1’s), which can be translated into\n",
    "a decimal number. However, these decimal numbers don’t match the printable characters as we know them. <br>\n",
    "This means that when you send the human readable integer 255 (e.g.)\n",
    "to the Arduino, it will be decyphered as the sequence 50 53 53 of three\n",
    "bytes (one per digit), corresponding to the ASCII codes of each printable\n",
    "digit. You can confirm the correspondence between printable characters\n",
    "(that you can read) and their underlying decimal representation (that\n",
    "the Arduino will read) at:\n",
    "https://learn.sparkfun.com/tutorials/ascii    \n",
    "</div>"
   ]
  },
  {
   "cell_type": "markdown",
   "metadata": {},
   "source": [
    "### <div style=\"color:#00a0e4\">   3. Arduino and Computer Dialogues </div>\n",
    "\n",
    "Through the previous examples, we’ve seen how to have the Arduino talking to\n",
    "the computer and the other way round, but things can become way cooler with\n",
    "interactive bidirectional communication between the two. In this experiment\n",
    "we’ll combine the skills acquired thus far to have the computer controlling the Arduino and receiving feedback on the result.\n",
    "\n",
    "1. Take the breadboard, the 330Ω resistors, the jumper wires and the RGB\n",
    "LED, and connect them to your Arduino as shown in Figure 3.3\n",
    "\n",
    "2. Create a new (empty) sketch on the Arduino IDE\n",
    "3. Write a program that toggles (turns on if off and off if on) each of the\n",
    "components of the RGB LED based on characters sent by the computer\n",
    "(e.g. R - RED, G - GREEN, B - BLUE); if the received character is valid,\n",
    "the Arduino should acknowledge the execution of the operation by sending\n",
    "the string OK to the computer, otherwise it should send the string KO\n",
    "4. Compile and upload the sketch to your Arduino board\n",
    "5. Open the Serial Monitor tool from the Arduino IDE (Figure 3.4)\n",
    "6. Sending bytes to the Arduino should switch the state of the RGB LED\n",
    "and the acknowledgement message should appear on the serial monitor\n",
    "input data area"
   ]
  },
  {
   "cell_type": "markdown",
   "metadata": {},
   "source": [
    "<div style=\"background:#fada5e;font-family:'arial', monospace; text-align: center; padding: 10px 0; border-radius:10px; width:70%; margin:auto \" >\n",
    "  <span style=\"font-size:20px;position:relative;color:white; \">  Warning! </span> <br>\n",
    "  <div style=\"background:white;\"> \n",
    "    The Serial.read() function automatically unblocks (or times out) after\n",
    "a few milliseconds without receiving any data. When experimenting with\n",
    "sending bytes manually to the Arduino, it can be useful to increase the\n",
    "timeout interval to give us (slow) humans more time to type in and push\n",
    "data through to the serial port. For additional information on this check\n",
    "the following documentation:\n",
    "https://www.arduino.cc/en/Serial/setTimeout  \n",
    "</div>"
   ]
  },
  {
   "cell_type": "markdown",
   "metadata": {},
   "source": [
    "# III. Explore\n",
    "<div class='h1'  style=\"width:100%; background:#00a0e4;color:#282828;font-family:'arial black'; text-align: center; padding: 7px 0; border-radius: 5px 50px;margin-top:-15px\" > </div>"
   ]
  },
  {
   "cell_type": "markdown",
   "metadata": {},
   "source": [
    "Remember ...  \n"
   ]
  },
  {
   "cell_type": "markdown",
   "metadata": {},
   "source": [
    "### <div style=\"color:#00a0e4\">  1. Final Notes (optional) </div>"
   ]
  },
  {
   "cell_type": "markdown",
   "metadata": {},
   "source": [
    "### <div style=\"color:#00a0e4\">  2. Quiz (optional)  </div>\n",
    "\n",
    "\n",
    "1. Modify the sketch you’ve created in Section 3.4 in such way that the serial port is configured for a baud rate of 300bps and observe the graphic. Now configure it for a baud rate of 115200bps and observe the graphic. Explain the result?\n",
    "\n",
    "2. What is the transmission time per bit for the baud rates used in the previous question? What about the effective number of bytes transmitted per second, considering an 8N1 configuration?\n",
    "\n",
    "3. Create a new sketch, based on the experiment of Section 3.4, to continuously display a formatted string on the Serial Monitor showing the  digital code obtained from the ADC and the corresponding voltage (e.g. ADC = 511; V = 2.50) in real time.\n",
    "\n",
    "4. As you’ve reviewed in Section 3.5, what we see as a human readable integer number is not understood by the Arduino as the same representation. Modify the sketch you have created to allow the Arduino to parse the sequence of ASCII characters received from the computer into the corresponding integer number you intended to send.\n",
    "\n",
    "5. Modify the sketch created in Section 3.6 to receive an integer number in addition to the RGB LED channel to control, and use that number to adjust the brightness level of the RGB LED instead of simply toggling it on or off. As an acknowledgment message return a string with the state of the RGB components instead of the OK message."
   ]
  },
  {
   "cell_type": "markdown",
   "metadata": {},
   "source": [
    "### <div style=\"color:#00a0e4\">  3. Further Reading  </div>"
   ]
  },
  {
   "cell_type": "markdown",
   "metadata": {},
   "source": [
    "<div style=\"height:115px; background:white;border-radius:10px;text-align:center\"> \n",
    "\n",
    "<img src=\"https://www.lx.it.pt/~asmc/predict/images/IT.png\" alt=\"it\" style=\"position: relative; margin-left: 10px; bottom:-55px;max-width:150px;height:auto;\"/> \n",
    "<img src=\"https://cqe.tecnico.ulisboa.pt/files/files/logos/IST_A_RGB_POS.png\"\n",
    "         alt=\"alternate text\" \n",
    "         style=\"position: relative; margin-left: 10px;  bottom:-50px; width:150px;height:auto;\"/>\n",
    "</div> "
   ]
  },
  {
   "cell_type": "markdown",
   "metadata": {},
   "source": [
    "<div style=\"width: 100%; \">\n",
    "    <div style=\"background:#00a0e4;color:white;font-family:'arial', monospace; text-align: center; padding: 50px 0; border-radius:10px; height:10px; width:100%; float:left \" >\n",
    "  <span style=\"font-size:20px;position:relative; top:-25px\">  Suggestions are welcome! </span> <br>\n",
    " <span style=\"font-size:12px;position:relative; top:-25px\">  Please provide us your feedback at jehdwne@it.lx.pt</span> \n",
    "</div>"
   ]
  },
  {
   "cell_type": "code",
   "execution_count": null,
   "metadata": {},
   "outputs": [],
   "source": []
  },
  {
   "cell_type": "code",
   "execution_count": null,
   "metadata": {},
   "outputs": [],
   "source": []
  }
 ],
 "metadata": {
  "kernelspec": {
   "display_name": "Python 3",
   "language": "python",
   "name": "python3"
  },
  "language_info": {
   "codemirror_mode": {
    "name": "ipython",
    "version": 3
   },
   "file_extension": ".py",
   "mimetype": "text/x-python",
   "name": "python",
   "nbconvert_exporter": "python",
   "pygments_lexer": "ipython3",
   "version": "3.7.6"
  }
 },
 "nbformat": 4,
 "nbformat_minor": 4
}

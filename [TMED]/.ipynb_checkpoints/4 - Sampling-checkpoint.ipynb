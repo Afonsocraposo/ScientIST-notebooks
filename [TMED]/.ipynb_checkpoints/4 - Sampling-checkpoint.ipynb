{
 "cells": [
  {
   "cell_type": "markdown",
   "metadata": {},
   "source": [
    " # <div  style=\"color:#303030;font-family:'arial blACK', sans-serif,monospace; text-align: center; padding: 50px 0; vertical-align:middle;\" > <img src=\"https://www.nicepng.com/png/full/204-2043038_white-lightbulb-icon-light-bulb-icon-white.png\" style=\" background:#00a0e4;border-radius:10px;width:150px;text-align:left\"  /> <span style=\"position:relative; bottom:75px; left:20px\">  Sampling </span> </div>"
   ]
  },
  {
   "cell_type": "markdown",
   "metadata": {},
   "source": [
    "# I. Introduction\n",
    "<div style=\"width:100%; background:#00a0e4;font-family:'arial black',monospace; text-align: center; padding: 7px 0; border-radius: 5px 50px;margin-top:-15px\" >  </div>\n"
   ]
  },
  {
   "cell_type": "markdown",
   "metadata": {},
   "source": [
    "By: Hugo Plácido da Silva"
   ]
  },
  {
   "cell_type": "markdown",
   "metadata": {},
   "source": [
    "## <div style=\"color:#00a0e4\"> 1. Background </div>\n"
   ]
  },
  {
   "cell_type": "markdown",
   "metadata": {},
   "source": [
    "Any physical quantity that varies with time, space or any independent vari-\n",
    "able is known as a signal. As they exist in the world, signals have a representation in any infinitely small portion of time, and for that reason are designated as continuous signals. The process of reducing a continuous signal to a discrete signal is defined as sampling, and has the goal of retrieving a digitally manageable sequence of quantities spaced of a pre-defined time interval. <br>\n",
    "In this lesson we will make a series of experiments to understand this fundamental process."
   ]
  },
  {
   "cell_type": "markdown",
   "metadata": {},
   "source": [
    "## <div style=\"color:#00a0e4\"> 2. Objectives</div>\n",
    "* Setup a skeleton data acquisition system with adjustable sampling rate\n",
    "* Understand the importance of timmings in embedded systems\n",
    "* Learn how to profile the behaviour of your programs"
   ]
  },
  {
   "cell_type": "markdown",
   "metadata": {},
   "source": [
    "## <div style=\"color:#00a0e4\"> 3. Materials (optional) </div>\n",
    "* MArduino IDE\n",
    "* 1x Arduino Uno\n",
    "* 1x USB cable\n",
    "* 1x Breadboard\n",
    "* 1x Potentiometer\n",
    "* 1x Temperature sensor\n",
    "* 3x Jumper wires"
   ]
  },
  {
   "cell_type": "markdown",
   "metadata": {},
   "source": [
    "<div style=\"background:#fada5e;font-family:'arial', monospace; text-align: center; padding: 10px 0; border-radius:10px; width:70%; margin:auto \" >\n",
    "  <span style=\"font-size:20px;position:relative;color:white; \">  Warning! </span> <br>\n",
    "  <div style=\"background:white;\"> \n",
    "    Unless otherwise noticed make sure that you use a 115200bps baud rate\n",
    "throughout the following experiments.      \n",
    "</div>"
   ]
  },
  {
   "cell_type": "markdown",
   "metadata": {},
   "source": [
    "# II. Experimental\n",
    "\n",
    "<div style=\"width:100%; background:#00a0e4;color:#282828;font-family:'arial black'; text-align: center; padding: 7px 0; border-radius: 5px 50px; margin-top:-15px\" > </div>"
   ]
  },
  {
   "cell_type": "markdown",
   "metadata": {},
   "source": [
    "### <div style=\"color:#00a0e4\">  1. Barebone Real-Time Acquisition System </div>\n",
    "\n",
    "Whether it is to save resources (e.g. storage space, computing time, power), or\n",
    "to have more precise information when analyzing the data once collected, an\n",
    "important component in most biomedical applications involving signals is the\n",
    "control of the data acquisition settings. The most basic setting is determining\n",
    "when the process starts or stop. Given that in the digital domain signals are\n",
    "\n",
    "treated as sequences of quantities spaced of a pre-defined time interval, specifying the later is also of utmost importance. In this experiment you will implement a simple data acquisition system with configurable settings.\n",
    "\n",
    "1. Take the breadboard, the potentiometer and the jumper wires, and connect them to your Arduino as shown in Figure 4.1\n",
    "\n",
    "2. Create a new (empty) sketch on the Arduino IDE\n",
    "\n",
    "3. Write a program that starts or stops real-time data streaming of the analog values read from an input channel of your choice via the serial port, in response to commands received from the computer through the serial port (e.g. B starts the acquisition and E stops it)\n",
    "\n",
    "4. In addition to controlling the acquisition state, add a feature to your pro- gram to allow the configuration of the sampling rate (i.e. time in-between\n",
    " reading a sample from the analog input), by receiving a command followed by a number indicating the desired sampling rate (e.g. F followed by 10 should configure the system to use a sampling rate of 10Hz); note that your program should not allow adjusting the sampling while the device is streaming data (otherwise the time in-between samples will not be the same throughout the recording)\n",
    " \n",
    "5. Compile and upload the sketch to your Arduino board\n",
    "\n",
    "6. Open the Serial Monitor tool from the Arduino IDE\n",
    "\n",
    "7. Try out your code and confirm that the implemented commands are working as expected; changing the resistance on the potentiometer should vary the input voltage reaching the analog input being sampled and consequently make the analog codes produced by the ADC change also"
   ]
  },
  {
   "cell_type": "markdown",
   "metadata": {},
   "source": [
    "<div style=\"background:#00bfc2;font-family:'arial', monospace; text-align: center; padding: 10px 0; border-radius:10px; width:70%; margin:auto \" >\n",
    "  <span style=\"font-size:20px;position:relative;color:white; \">  Note </span> <br>\n",
    "  <div style=\"background:white;\"> \n",
    "    In practice, the time in-between acquired samples is controlled by al-\n",
    "lowing the analogRead() to be executed only at a certain time. For simplicity, you can achieve this using the delay() function to force the code to stop for a period of time compatible with the specified sampling rate.    \n",
    "</div>"
   ]
  },
  {
   "cell_type": "markdown",
   "metadata": {},
   "source": [
    "### <div style=\"color:#00a0e4\">  2. Time is Not Always What We Think </div>\n",
    "\n",
    "We have talked about time a fair amount by now, but haven’t really analyzed\n",
    "it still. In this experiment we will look into the dynamics of time at a more\n",
    "granular level, and understand why we should look beyond our presumptions.\n",
    "\n",
    "1. Adapt the code developed in Section 4.4 to stream the return value of the millis() function together with the analog inputeading, as a formatted set of strings with comma-separated values (CSV) (e.g. MILLIS,A0); make sure that each string is ended by a line feed character\n",
    "\n",
    "2. Compile and upload the sketch to your Arduino board\n",
    "3. Open the Serial Monitor tool from the Arduino IDE\n",
    "4. Configure the sampling rate that your device will use to 1Hz\n",
    "5. Start the data acquisition and stop it after a couple of seconds\n",
    "6. Select all the content of the Serial Monitor window and copy it\n",
    "7. Open a spreadsheet software of your choice and paste the copied data (if\n",
    "the data is not automatically split into columns use the Data > Text to\n",
    "columns... option)\n",
    "8. Create a new column with the discrete derivative of your time column (i.e.\n",
    "each element is computed as the difference between two consecutive time\n",
    "samples)\n",
    "9. Compute the maximum, minimum and average values of the discrete\n",
    "derivative column; while the mimimum value should match the expected\n",
    "inter-sample interval of 1 second imposed by the 1Hz sampling rate you\n",
    "have configured (and the average should be close to it), the maximum value shows us that sometimes the process takes more or less time; in\n",
    "effect, there are other factors influencing the MCU, preventing it from\n",
    "meeting our time constrains and making what we would otherwise think\n",
    "to be a known time in-between samples have an uncertainty"
   ]
  },
  {
   "cell_type": "markdown",
   "metadata": {},
   "source": [
    "<div style=\"background:#00bfc2;font-family:'arial', monospace; text-align: center; padding: 10px 0; border-radius:10px; width:70%; margin:auto \" >\n",
    "  <span style=\"font-size:20px;position:relative;color:white; \">  Note </span> <br>\n",
    "  <div style=\"background:white;\"> \n",
    "    There are several factors that can cause delays in the execution of your\n",
    "code. The main factors are the time taken by the instructions themselves\n",
    "to complete (e.g. writting a long to the serial port using the default\n",
    "Arduino libraries and approach takes around 420 μseconds)     \n",
    "</div>"
   ]
  },
  {
   "cell_type": "markdown",
   "metadata": {},
   "source": [
    "<div style=\"background:#62d321;font-family:'arial', monospace; text-align: center; padding: 10px 0; border-radius:10px; width:70%; margin:auto \" >\n",
    "  <span style=\"font-size:20px;position:relative;color:white; \"> Explore </span> <br>\n",
    "  <div style=\"background:white;\"> \n",
    "    In addition to the millis() function, the Arduino also has the micros()\n",
    "function, which enables us to analyze time with higher granularity:\n",
    "https://www.arduino.cc/reference/en/language/functions/time/micros/    \n",
    "</div>"
   ]
  },
  {
   "cell_type": "markdown",
   "metadata": {},
   "source": [
    "### <div style=\"color:#00a0e4\">   3. Any Configuration has Limits </div>\n",
    "\n",
    "Although modern digital systems (and in most cases our presumptions) may\n",
    "lead us to think otherwise, due to the increasingly commoditized availability of\n",
    "resources (e.g. processor speed, memory, etc.), the same are not unlimited. This\n",
    "is particularly noticeable in embedded systems, and even the most seemingly\n",
    "harmful changes can have a big impact on the results we obtain (or on that we\n",
    "think we obtain at least). In this experiment we will see how even changing the\n",
    "type of data being transmitted can be the difference between a tip-top system\n",
    "and a dud.\n",
    "\n",
    "1. Take the breadboard, the temperature sensor and the jumper wires, and connect them to your Arduino as shown in Figure 4.2\n",
    "\n",
    "2. Repeat the experiment from Section 4.5 using a baud rate of 1200bps and a sampling rate of 100Hz, and store your spreadsheet with the results\n",
    "\n",
    "3. As before, the time in-between acquired samples shouldn’t differ significantly from what we would expect, considering the specified sampling rate\n",
    "\n",
    "4. Modify your sketch to send the values obtained from the ADC converted to ◦C as float; consider that the temperature in ◦C is determined as: <br>\n",
    "C = (Vin −1/2)∗100, with Vin =(ADC/1023)∗5\n",
    "\n",
    "5. Repeat the experiment (maintaining the baud rate of 1200bps and a sampling rate of 100Hz) and compare the results\n",
    "\n",
    "6. You should be able to see that while in the first experiment (where only the 16−bit int values were being sent) the MCU was able to comply with the data throughput and time constrains for which the acquisition was configured (as shown by the 10 milliseconds time in-between samples), in the second experiment just a simple change in one data type being streamed increased the throughput in such a way that the serial port speed was just too low to enable the MCU to execute all the tasks in a timely manner (remember that float data types have 32 − bit)"
   ]
  },
  {
   "cell_type": "markdown",
   "metadata": {},
   "source": [
    "<div style=\"background:#fe9b29;font-family:'arial', monospace; text-align: center; padding: 10px 0; border-radius:10px; width:70%; margin:auto \" >\n",
    "  <span style=\"font-size:20px;position:relative;color:white; \">  Caution! </span> <br>\n",
    "  <div style=\"background:white;\"> \n",
    "    BE CAREFUL when connecting the temperature sensor to the bread-\n",
    "board; it has a specific position and CAN BE DAMAGED IF WRONGLY CONNECTED. Triple check your wiring before powering up the Arduino and check if the sensor is overheating.     \n",
    "</div>"
   ]
  },
  {
   "cell_type": "markdown",
   "metadata": {},
   "source": [
    "<div style=\"background:#62d321;font-family:'arial', monospace; text-align: center; padding: 10px 0; border-radius:10px; width:70%; margin:auto \" >\n",
    "  <span style=\"font-size:20px;position:relative;color:white; \"> Explore </span> <br>\n",
    "  <div style=\"background:white;\"> \n",
    "    The temperature sensor used in this experiment is a TMP36 from\n",
    "Analog Devices. You can obtain detailed information regarding this\n",
    "sensor on its datasheet available at:\n",
    "http://www.analog.com/media/en/technical-documentation/data-sheets/TMP35_36_37.pdf      \n",
    "</div>"
   ]
  },
  {
   "cell_type": "markdown",
   "metadata": {},
   "source": [
    "# III. Explore\n",
    "<div class='h1'  style=\"width:100%; background:#00a0e4;color:#282828;font-family:'arial black'; text-align: center; padding: 7px 0; border-radius: 5px 50px;margin-top:-15px\" > </div>"
   ]
  },
  {
   "cell_type": "markdown",
   "metadata": {},
   "source": [
    "Remember ...  \n"
   ]
  },
  {
   "cell_type": "markdown",
   "metadata": {},
   "source": [
    "### <div style=\"color:#00a0e4\">  1. Final Notes (optional) </div>"
   ]
  },
  {
   "cell_type": "markdown",
   "metadata": {},
   "source": [
    "### <div style=\"color:#00a0e4\">  2. Quiz </div>\n",
    "\n",
    "1. Equally important to the control of certain settings on the device is reading its state. Add a feature to the program developed in Section 4.4 to allow sending a formatted string containing the currently configured sampling rte, upon request, based on a separate command sent by the computer(e.g. character C).\n",
    "\n",
    "2. As you might have noticed in Section 4.4, it may not be easy for a user to understand in which state your code is currently at (e.g. acquiring or in standby), just by looking at the device. Modify your code in such a way that the builtin LED blinks when your code is in the standby state.\n",
    "\n",
    "3. Modify the sketch you’ve created in Section 4.5 to have an active time counting of the sampling interval instead of using the delay function. Re- peat the experiment and compare the differences in results.\n",
    "\n",
    "4. Write a sketch that prints to the serial port how much time does the function Serial.println() takes to complete when writting a long variable. Use a spreadsheet software of your choice to determine the average time. Modify your code to sample 4 analog inputs in addition to executing the Serial.println() and repeat your analysis. What can you conclude from the gathered information?\n",
    "\n",
    "5. Even though the analog values produced by the ADC have 10−bit resolution, they are usually stored in an integer type (int) variable, which has 16 − bit resolution. What is the data throughput (in bits per second) if your code is streaming 6 channels at 1000Hz? Could we use that number directly as the baud rate for transmitting our data using the serial port protocol?"
   ]
  },
  {
   "cell_type": "markdown",
   "metadata": {},
   "source": [
    "### <div style=\"color:#00a0e4\">  3. Further Reading  </div>"
   ]
  },
  {
   "cell_type": "markdown",
   "metadata": {},
   "source": [
    "<div style=\"height:115px; background:white;border-radius:10px;text-align:center\"> \n",
    "\n",
    "<img src=\"https://www.lx.it.pt/~asmc/predict/images/IT.png\" alt=\"it\" style=\"position: relative; margin-left: 10px; bottom:-55px;max-width:150px;height:auto;\"/> \n",
    "<img src=\"https://cqe.tecnico.ulisboa.pt/files/files/logos/IST_A_RGB_POS.png\"\n",
    "         alt=\"alternate text\" \n",
    "         style=\"position: relative; margin-left: 10px;  bottom:-50px; width:150px;height:auto;\"/>\n",
    "</div> "
   ]
  },
  {
   "cell_type": "markdown",
   "metadata": {},
   "source": [
    "<div style=\"width: 100%; \">\n",
    "    <div style=\"background:#00a0e4;color:white;font-family:'arial', monospace; text-align: center; padding: 50px 0; border-radius:10px; height:10px; width:100%; float:left \" >\n",
    "  <span style=\"font-size:20px;position:relative; top:-25px\">  Suggestions are welcome! </span> <br>\n",
    " <span style=\"font-size:12px;position:relative; top:-25px\">  Please provide us your feedback at jehdwne@it.lx.pt</span> \n",
    "</div>"
   ]
  },
  {
   "cell_type": "code",
   "execution_count": null,
   "metadata": {},
   "outputs": [],
   "source": []
  },
  {
   "cell_type": "code",
   "execution_count": null,
   "metadata": {},
   "outputs": [],
   "source": []
  }
 ],
 "metadata": {
  "kernelspec": {
   "display_name": "Python 3",
   "language": "python",
   "name": "python3"
  },
  "language_info": {
   "codemirror_mode": {
    "name": "ipython",
    "version": 3
   },
   "file_extension": ".py",
   "mimetype": "text/x-python",
   "name": "python",
   "nbconvert_exporter": "python",
   "pygments_lexer": "ipython3",
   "version": "3.7.6"
  }
 },
 "nbformat": 4,
 "nbformat_minor": 4
}

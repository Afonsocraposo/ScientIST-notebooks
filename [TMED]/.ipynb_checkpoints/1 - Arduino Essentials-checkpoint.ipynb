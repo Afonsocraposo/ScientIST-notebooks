{
 "cells": [
  {
   "cell_type": "markdown",
   "metadata": {},
   "source": [
    " # <div  style=\"color:#303030;font-family:'arial blACK', sans-serif,monospace; text-align: center; padding: 50px 0; vertical-align:middle;\" > <img src=\"https://www.nicepng.com/png/full/204-2043038_white-lightbulb-icon-light-bulb-icon-white.png\" style=\" background:#00a0e4;border-radius:10px;width:150px;text-align:left\"  /> <span style=\"position:relative; bottom:75px; left:20px\">  Arduino Essentials </span> </div>"
   ]
  },
  {
   "cell_type": "markdown",
   "metadata": {},
   "source": [
    "# I. Introduction\n",
    "<div style=\"width:100%; background:#00a0e4;font-family:'arial black',monospace; text-align: center; padding: 7px 0; border-radius: 5px 50px;margin-top:-15px\" >  </div>\n"
   ]
  },
  {
   "cell_type": "markdown",
   "metadata": {},
   "source": [
    "## <div style=\"color:#00a0e4\"> 1. Background </div>\n"
   ]
  },
  {
   "cell_type": "markdown",
   "metadata": {},
   "source": [
    "The Arduino is an open source hardware and software platform, designed to\n",
    "\n",
    "empower virtually anyone with the basic tools to easily create microcontroller-\n",
    "based devices. In this lesson we will dive into the world of embedded systems\n",
    "\n",
    "programming, setup a development environment, and get acquainted with the\n",
    "Arduino platform and programming paradigm. Note that there are dozens of\n",
    "variants of this platform and we will use only one of them. The addressed topics\n",
    "and base principles are common to all, but keep in mind to throroughly review\n",
    "the specifications of the devices you use to make the most of their capabilities."
   ]
  },
  {
   "cell_type": "markdown",
   "metadata": {},
   "source": [
    "## <div style=\"color:#00a0e4\"> 2. Objectives</div>\n",
    "* Understand the Arduino platform and computational paradigm\n",
    "* Setup the development tools in your computer\n",
    "* Write, compile, program and execute code on the Arduino"
   ]
  },
  {
   "cell_type": "markdown",
   "metadata": {},
   "source": [
    "## <div style=\"color:#00a0e4\"> 3. Materials (optional) </div>\n",
    "* Arduino IDE\n",
    "* 1x Arduino Uno\n",
    "* 1x USB cable\n",
    "* 1x Breadboard\n",
    "* 1x Push button\n",
    "* 1x Red LED\n",
    "* 1x Yellow LED\n",
    "* 1x Green LED\n",
    "* 1x 10kΩ resistor\n",
    "* 3x 330Ω resistor\n",
    "* 7x Jumper wire"
   ]
  },
  {
   "cell_type": "markdown",
   "metadata": {},
   "source": [
    "<div style=\"background:#fe9b29; font-family:'arial', monospace;text-align: center; padding: 10px 0; border-radius:10px; width:70%; margin:auto \" >\n",
    "  <span style=\"font-size:20px;position:relative;color:white; \">  Caution! </span> <br>\n",
    "  <div style=\"background:white;\"> \n",
    "    The Arduino works with low voltages and currents, which together with\n",
    "the maximum voltage and current output provided by your computer\n",
    "means you’ll be totally mostly fine. However, THE SAFETY OF YOUR\n",
    "ARDUINO NEEDS TO BE A TOP PRIORITY as you are typically\n",
    "more dangerous to the device than it will be to you. <br>\n",
    "NEVER connect the pins labelled as POWER directly between them (e.g.\n",
    "the 3.3V pin to the 5V pin). <br>\n",
    "NEVER connect the voltage pins to another (external) voltage source,\n",
    "regardless of its type. <br>\n",
    "NEVER connect the voltage pins to the GND. <br>\n",
    "NEVER leave unconnected (aka “live”) wires floating around your board\n",
    "as they can inadvertently create short circuits between components.\n",
    "NEVER bend, twist, cut, score, apply weight or otherwise perform any\n",
    "mechanical abuse to your board; it is fragile! <br>\n",
    "\n",
    "ALWAYS have your board disconnect from the computer while assem-\n",
    "bling your circuits!\n",
    " <br>\n",
    "Contrary to what often happens with general computer use and infor-\n",
    "matics, dealing with electronic devices IS NOT A TRIAL AND ER-\n",
    "ROR PROCESS. In this domain you MUST THINK AND STUDY THE\n",
    "\n",
    "PROBLEM CAREFULLY; only take action when all your synapses have\n",
    "stopped and reached a convincing solution to achieve the goals your are\n",
    "trying to fulfil. <br>\n",
    "Now that you have been warned, lets have some fun ;)    \n",
    "</div>"
   ]
  },
  {
   "cell_type": "markdown",
   "metadata": {},
   "source": [
    "# II. Experimental\n",
    "\n",
    "<div style=\"width:100%; background:#00a0e4;color:#282828;font-family:'arial black'; text-align: center; padding: 7px 0; border-radius: 5px 50px; margin-top:-15px\" > </div>"
   ]
  },
  {
   "cell_type": "code",
   "execution_count": null,
   "metadata": {},
   "outputs": [],
   "source": [
    "color_warnings=\"#5756d6\""
   ]
  },
  {
   "cell_type": "markdown",
   "metadata": {},
   "source": [
    "### <div style=\"color:#00a0e4\">  1. Installing the Arduino IDE </div>"
   ]
  },
  {
   "cell_type": "markdown",
   "metadata": {},
   "source": [
    "1. The most straightforward way to program an Arduino is through its\n",
    "own Integrated Development Environment (IDE); you need to download\n",
    "and install the latest Arduino Desktop IDE version from: https://www.arduino.cc/en/Main/Software\n",
    "2. Open the software to confirm that it is working (a window similar to that\n",
    "on Figure 1.1 should open)\n",
    "3. Hovering with the mouse pointer on each button shows a brief description\n",
    "of its function. The following figure summarizes these functionalities."
   ]
  },
  {
   "cell_type": "markdown",
   "metadata": {},
   "source": [
    "<div style=\"background:#00bfc2;font-family:'arial', monospace; text-align: center; padding: 10px 0; border-radius:10px; width:70%; margin:auto \" >\n",
    "  <span style=\"font-size:20px;position:relative;color:white; \">  Note </span> <br>\n",
    "  <div style=\"background:white;\"> \n",
    "    A comprehensive guide on the Arduino Desktop IDE is available at:\n",
    "https://create.arduino.cc/projecthub/Arduino_Genuino/getting-started-with-the-arduino-desktop-ide-623be4   \n",
    "</div>"
   ]
  },
  {
   "cell_type": "markdown",
   "metadata": {},
   "source": [
    "### <div style=\"color:#00a0e4\">  2. Setting up your Arduino </div>"
   ]
  },
  {
   "cell_type": "markdown",
   "metadata": {},
   "source": [
    "1. Connect the USB cable to your computer and to the corresponding socket\n",
    "on the board (Figures 1.2(a) & 1.2(b))\n",
    "2. Install the Arduino drivers\n",
    "3. Open to the Arduino IDE and select your board model, i.e. Arduino/Genuino\n",
    "Uno (Figure 1.2(c))\n",
    "\n",
    "4. Select the port that your Arduino is using (Figure 1.2(d)), which on Win-\n",
    "dows should have the prefix COM, followed by an integer number, and on\n",
    "\n",
    "Mac OS it should have the prefix /dev/cu.usb or /dev/tty.usb; usually\n",
    "the port of your newly added device appears at the end of the list"
   ]
  },
  {
   "cell_type": "markdown",
   "metadata": {},
   "source": [
    "<div style=\"background:color_warnings;font-family:'arial', monospace; text-align: center; padding: 10px 0; border-radius:10px; width:70%; margin:auto \" >\n",
    "  <span style=\"font-size:20px;position:relative;color:white; \">  Warning! </span> <br>\n",
    "  <div style=\"background:white;\"> \n",
    "    Depending on your operating system, you may need to follow specific\n",
    "instructions to install the FTDI drivers; please refer to:\n",
    "http://www.sparkfun.com/FTDI      \n",
    "</div>"
   ]
  },
  {
   "cell_type": "markdown",
   "metadata": {},
   "source": [
    "<div style=\"background:#00bfc2;font-family:'arial', monospace; text-align: center; padding: 10px 0; border-radius:10px; width:70%; margin:auto \" >\n",
    "  <span style=\"font-size:20px;position:relative;color:white; \">  Note </span> <br>\n",
    "  <div style=\"background:white;\"> \n",
    "    You can find detailed information about the Arduino on the oficial web-\n",
    "site:\n",
    "https://www.arduino.cc/en/Main/ArduinoBoardUno\n",
    "</div>"
   ]
  },
  {
   "cell_type": "markdown",
   "metadata": {},
   "source": [
    "<div style=\"background:#62d321;font-family:'arial', monospace; text-align: center; padding: 10px 0; border-radius:10px; width:70%; margin:auto \" >\n",
    "  <span style=\"font-size:20px;position:relative;color:white; \"> Explore </span> <br>\n",
    "  <div style=\"background:white;\"> \n",
    "    Most Arduinos use an Atmel ATMega328p CMOS 8-bit reprogrammable\n",
    "microcontroller based on the AVR enhanced RISC architecture; learn\n",
    "more about this chipset at:\n",
    "http://ww1.microchip.com/downloads/en/DeviceDoc/Atmel-42735-8-bit-AVR-Microcontroller-ATmega328-328P_Datasheet.pdf      \n",
    "</div>"
   ]
  },
  {
   "cell_type": "markdown",
   "metadata": {},
   "source": [
    "### <div style=\"color:#00a0e4\">  3. Testing your Setup </div>"
   ]
  },
  {
   "cell_type": "markdown",
   "metadata": {},
   "source": [
    "1. Open the Arduino IDE and create a blank sketch (see the command ref-\n",
    "erence in Figure 1.1)\n",
    "\n",
    "2. Upload the sketch to your Arduino (see the command reference in Figure 1.1); while the sketch is uploading you should see the LEDs associated with the RX and TX transmission lines flashing\n",
    "\n",
    "3. The MESSAGES section of the Arduino IDE should show a notification in-\n",
    "dicating that the code has been uploaded, and list general information\n",
    "\n",
    "regarding the memory use on your device (Figure 1.3(a))"
   ]
  },
  {
   "cell_type": "markdown",
   "metadata": {},
   "source": [
    "<div style=\"background:#5756d6;font-family:'arial', monospace; text-align: center; padding: 10px 0; border-radius:10px; width:70%; margin:auto \" >\n",
    "  <span style=\"font-size:20px;position:relative;color:white; \">  Warning! </span> <br>\n",
    "  <div style=\"background:white;\"> \n",
    "   The Arduino guys have made an effort to present “human-friendly” mes-\n",
    "sages so, in case you obtain an errors, read the output carefully and you\n",
    "will likely be able to have a rough idea of what went wrong. <br>\n",
    "The most common causes of problems are syntax errors in your code, a\n",
    "mismatching board version on the IDE, or a wrongly selected port, so\n",
    "please review your code and try to identify any typos or mismatching\n",
    "characters. <br>\n",
    "Take another look also at Section 1.5 and make sure you followed all the\n",
    "steps to configure your device correctly.    \n",
    "</div>"
   ]
  },
  {
   "cell_type": "markdown",
   "metadata": {},
   "source": [
    "### <div style=\"color:#00a0e4\">  4. Embedded Hello World</div>"
   ]
  },
  {
   "cell_type": "markdown",
   "metadata": {},
   "source": [
    "One of the simplest programs that can be created using an embedded system is\n",
    "blinking an LED; you can see it almost as the hardware equivalent to the “Hello\n",
    "World” program normally used in most programming languages to illustrate\n",
    "the basic syntax. For this experiment you will use one of the LEDs integrated\n",
    "on your board (Figure 1.4(a)), which is connected to the GPIO 13 (constant\n",
    "LED BUILTIN), as a way of becoming familiar with the structure of an Arduino\n",
    "sketch."
   ]
  },
  {
   "cell_type": "markdown",
   "metadata": {},
   "source": [
    "1. Load the Blink example sketch (Figure 1.4(b)) and review the code\n",
    "2. Compile and upload the sketch to your Arduino board\n",
    "3. Upon successful completion of the process, the LED associated with GPIO\n",
    "13 should start flashing at 0.5Hz"
   ]
  },
  {
   "cell_type": "markdown",
   "metadata": {},
   "source": [
    "<div style=\"background:#00bfc2;font-family:'arial', monospace; text-align: center; padding: 10px 0; border-radius:10px; width:70%; margin:auto \" >\n",
    "  <span style=\"font-size:20px;position:relative;color:white; \">  Note </span> <br>\n",
    "  <div style=\"background:white;\"> \n",
    "    Notice how the microcontroller loops through the code, just like a rep-\n",
    "etition structure in the programming languages you have learned, even without having any cycle formally defined.\n",
    "</div>"
   ]
  },
  {
   "cell_type": "markdown",
   "metadata": {},
   "source": [
    "<div style=\"background:#62d321;font-family:'arial', monospace; text-align: center; padding: 10px 0; border-radius:10px; width:70%; margin:auto \" >\n",
    "  <span style=\"font-size:20px;position:relative;color:white; \"> Explore </span> <br>\n",
    "  <div style=\"background:white;\"> \n",
    "    Detailed information regarding this sketch is available in the comments\n",
    "found throughout the code and also at:\n",
    "https://www.arduino.cc/en/tutorial/blink      \n",
    "</div>"
   ]
  },
  {
   "cell_type": "markdown",
   "metadata": {},
   "source": [
    "### <div style=\"color:#00a0e4\">  5. Multichannel Digital Control </div>"
   ]
  },
  {
   "cell_type": "markdown",
   "metadata": {},
   "source": [
    "Now that we’ve seen how to do a simple control task, let’s take it to the next level\n",
    "and control several channels. In this experiment, you will use three independent\n",
    "LEDs to create the base for a three level Visual Analog Scale (VAS) display.\n",
    "1. Take the breadboard, the 330Ω resistors, the jumper wires and the red,\n",
    "yellow and green LEDs, and connect them to your Arduino as shown in\n",
    "Figure 1.5\n",
    "2. Adapt the Blink example sketch to control the pins to which each LED\n",
    "is connected, lighting them in sequence; use an array and a repetition\n",
    "structure to avoid code duplication\n",
    "3. Compile and upload the sketch to your Arduino board\n",
    "4. Upon successful completion of the process, each LED will continuously\n",
    "turn on in sequence"
   ]
  },
  {
   "cell_type": "markdown",
   "metadata": {},
   "source": [
    "<div style=\"background:#5756d6;font-family:'arial', monospace; text-align: center; padding: 10px 0; border-radius:10px; width:70%; margin:auto \" >\n",
    "  <span style=\"font-size:20px;position:relative;color:white; \">  Warning! </span> <br>\n",
    "  <div style=\"background:white;\"> \n",
    "   The LEDs have polarity and need to be connected in a specific way in\n",
    "order to work properly. The long leg is the power (+) line and the short\n",
    "leg is the ground (-) line.\n",
    "</div>"
   ]
  },
  {
   "cell_type": "markdown",
   "metadata": {},
   "source": [
    "### <div style=\"color:#00a0e4\">  6. Reading Digital Inputs </div>"
   ]
  },
  {
   "cell_type": "markdown",
   "metadata": {},
   "source": [
    "Until now we focused only on controlling outputs, but sensing is equally (if\n",
    "not more) important. In this experiment we’ll be looking into one of the most\n",
    "common and simple input methods - the push button.\n",
    "1. Take the breadboard, the 10kΩ resistor, the jumper wires and the push\n",
    "button, and connect them to your Arduino as shown in Figure 1.6\n",
    "2. Load the Button example sketch and review the code\n",
    "3. Compile and upload the sketch to your Arduino board\n",
    "4. Upon successful completion of the process, the LED associated with GPIO\n",
    "13 should turn off whenever you push the button"
   ]
  },
  {
   "cell_type": "markdown",
   "metadata": {},
   "source": [
    "<div style=\"background:#5756d6;font-family:'arial', monospace; text-align: center; padding: 10px 0; border-radius:10px; width:70%; margin:auto \" >\n",
    "  <span style=\"font-size:20px;position:relative;color:white; \">  Warning! </span> <br>\n",
    "  <div style=\"background:white;\"> \n",
    "   If the LED never changes state, please check that the button is correctly\n",
    "positioned with respect to the way in which the lines are connected in\n",
    "the breadboard.\n",
    "</div>"
   ]
  },
  {
   "cell_type": "markdown",
   "metadata": {},
   "source": []
  },
  {
   "cell_type": "markdown",
   "metadata": {},
   "source": [
    "# III. Explore\n",
    "<div class='h1'  style=\"width:100%; background:#00a0e4;color:#282828;font-family:'arial black'; text-align: center; padding: 7px 0; border-radius: 5px 50px;margin-top:-15px\" > </div>"
   ]
  },
  {
   "cell_type": "markdown",
   "metadata": {},
   "source": [
    "Remember ...  \n"
   ]
  },
  {
   "cell_type": "markdown",
   "metadata": {},
   "source": [
    "### <div style=\"color:#00a0e4\">  1. Final Notes (optional) </div>"
   ]
  },
  {
   "cell_type": "markdown",
   "metadata": {},
   "source": [
    "### <div style=\"color:#00a0e4\">  2. Quiz (optional)  </div>"
   ]
  },
  {
   "cell_type": "markdown",
   "metadata": {},
   "source": [
    "1. Write an alternative formulation of the Blink basic sketch that uses a single call to the digitalWrite and delay functions.\n",
    "2. Write an alternative formulation of the loop function in the Button sketch\n",
    "using the least amount of lines of code you can conceive.\n",
    "3. Write a sketch where the push button commutes through the states OFF,\n",
    "RED, YELLOW, GREEN in the Section 1.8 experiment bellow.\n",
    "4. What can be the disadvantages of using the delay function to pause the\n",
    "execution of your sketch? Create a variant of the Blink basic sketch that\n",
    "uses the execution time instead of the delay function.\n",
    "5. What are the main interfaces provided by the Arduino Uno?"
   ]
  },
  {
   "cell_type": "markdown",
   "metadata": {},
   "source": [
    "### <div style=\"color:#00a0e4\">  3. Further Reading  </div>"
   ]
  },
  {
   "cell_type": "code",
   "execution_count": null,
   "metadata": {},
   "outputs": [],
   "source": []
  },
  {
   "cell_type": "markdown",
   "metadata": {},
   "source": [
    "<div style=\"height:115px; background:white;border-radius:10px;text-align:center\"> \n",
    "\n",
    "<img src=\"https://www.lx.it.pt/~asmc/predict/images/IT.png\" alt=\"it\" style=\"position: relative; margin-left: 10px; bottom:-55px;max-width:150px;height:auto;\"/> \n",
    "<img src=\"https://cqe.tecnico.ulisboa.pt/files/files/logos/IST_A_RGB_POS.png\"\n",
    "         alt=\"alternate text\" \n",
    "         style=\"position: relative; margin-left: 10px;  bottom:-50px; width:150px;height:auto;\"/>\n",
    "</div> "
   ]
  },
  {
   "cell_type": "markdown",
   "metadata": {},
   "source": [
    "<div style=\"width: 100%; \">\n",
    "    <div style=\"background:#00a0e4;color:white;font-family:'arial', monospace; text-align: center; padding: 50px 0; border-radius:10px; height:10px; width:100%; float:left \" >\n",
    "  <span style=\"font-size:20px;position:relative; top:-25px\">  Suggestions are welcome! </span> <br>\n",
    " <span style=\"font-size:12px;position:relative; top:-25px\">  Please provide us your feedback at jehdwne@it.lx.pt</span> \n",
    "</div>"
   ]
  }
 ],
 "metadata": {
  "kernelspec": {
   "display_name": "Python 3",
   "language": "python",
   "name": "python3"
  },
  "language_info": {
   "codemirror_mode": {
    "name": "ipython",
    "version": 3
   },
   "file_extension": ".py",
   "mimetype": "text/x-python",
   "name": "python",
   "nbconvert_exporter": "python",
   "pygments_lexer": "ipython3",
   "version": "3.7.6"
  }
 },
 "nbformat": 4,
 "nbformat_minor": 4
}

{
 "cells": [
  {
   "cell_type": "markdown",
   "metadata": {},
   "source": [
    " # <div  style=\"color:#303030;font-family:'arial blACK', sans-serif,monospace; text-align: center; padding: 50px 0; vertical-align:middle;\" > <img src=\"https://www.nicepng.com/png/full/204-2043038_white-lightbulb-icon-light-bulb-icon-white.png\" style=\" background:#00a0e4;border-radius:10px;width:150px;text-align:left\"  /> <span style=\"position:relative; bottom:75px; left:20px\"> Into the World Wild Web </span> </div>"
   ]
  },
  {
   "cell_type": "markdown",
   "metadata": {},
   "source": [
    "# I. Introduction\n",
    "<br>\n",
    "<div style=\"width:100%; background:#00a0e4;font-family:'arial black',monospace; text-align: center; padding: 7px 0; border-radius: 5px 50px;margin-top:-15px\" >  </div>\n"
   ]
  },
  {
   "cell_type": "markdown",
   "metadata": {},
   "source": [
    "## <div style=\"color:#00a0e4\"> 1. Background </div>\n"
   ]
  },
  {
   "cell_type": "markdown",
   "metadata": {},
   "source": [
    "With the advent of global content distribution as set forth and enabled by\n",
    "the world wide web, information access across heterogeneous hardware and software configurations in a consistent way quickly became a problem. The solution\n",
    "appeared as a combination between a standardized document description language for content structuring and specialized software to interpret and visually\n",
    "render said documents. The description language has evolved to become the\n",
    "HyperText Markup Language (HTML), while the software is what we known\n",
    "today as the web browsers; together they constitute the backbone of the web\n",
    "pages and web applications we use on a daily base, and are the focus of this lab."
   ]
  },
  {
   "cell_type": "markdown",
   "metadata": {},
   "source": [
    "## <div style=\"color:#00a0e4\"> 2. Objectives</div>\n",
    "* Get familiar with HyperText Markup Language (HTML)\n",
    "* Experiment web page structuring using different elements\n",
    "* Learn how to apply basic content formatting options"
   ]
  },
  {
   "cell_type": "markdown",
   "metadata": {},
   "source": [
    "## <div style=\"color:#00a0e4\"> 3. Materials</div>\n",
    "* HTML editor (e.g. Visual Studio Code, Spyder, Notepad++)\n",
    "* Google Chrome"
   ]
  },
  {
   "cell_type": "markdown",
   "metadata": {},
   "source": [
    "# II. Experimental\n",
    "<br>\n",
    "<div style=\"width:100%; background:#00a0e4;color:#282828;font-family:'arial black'; text-align: center; padding: 7px 0; border-radius: 5px 50px; margin-top:-15px\" > </div>"
   ]
  },
  {
   "cell_type": "markdown",
   "metadata": {},
   "source": [
    "### <div style=\"color:#00a0e4\">  1. In the Beginning There is the Element </div>"
   ]
  },
  {
   "cell_type": "markdown",
   "metadata": {},
   "source": [
    "At its core, web pages are documents written in HTML; there are numerous\n",
    "elements that can be used to used to define both the structure and semantics\n",
    "of the content. In this experiment, you will have the chance to use headings,\n",
    "paragraphs, tables, highlighting, acronyms, hyperlinks and other elements, as a\n",
    "way of becoming familiar with the language:\n",
    "\n",
    "    1. Create a new (empty) HTML file in the Spyder IDE (or another HTML editor of your choice)\n",
    "\n",
    "    2. Write a document that reproduces the content shown in the following figure"
   ]
  },
  {
   "cell_type": "markdown",
   "metadata": {},
   "source": [
    "<div style=\"background:#00bfc2;font-family:'arial', monospace; text-align: center; padding: 10px 0; border-radius:10px; width:70%; margin:auto \" >\n",
    "  <span style=\"font-size:20px;position:relative;color:white; \">  Note </span> <br>\n",
    "  <div style=\"background:#9eddde;font-size:12px\"> \n",
    "       For comprehensive documentation on HTML elements and document\n",
    "structuring refer to:\n",
    "<A><center> https://www.w3schools.com/html/default.asp </center> </A>\n",
    "</div>"
   ]
  },
  {
   "cell_type": "markdown",
   "metadata": {},
   "source": [
    "### <div style=\"color:#00a0e4\">  2. Data Loading (optional) </div>"
   ]
  },
  {
   "cell_type": "markdown",
   "metadata": {},
   "source": [
    "### <div style=\"color:#00a0e4\">   3. Another Experimental Section (optional) </div>"
   ]
  },
  {
   "cell_type": "markdown",
   "metadata": {},
   "source": [
    "#### <div style=\"color:#00a0e4\">   3.1. Plot Example  </div>"
   ]
  },
  {
   "cell_type": "markdown",
   "metadata": {},
   "source": [
    "In the following examples, the library import are done at the beginning of the example cell, just exemplify the examples more easily. These comands should be, as seen, placed in the \"Requirements\" section, for which they will be here highlighted within <br>\n",
    "\n",
    "#---\n",
    "<br>\n",
    "import examples\n",
    "<br>\n",
    "#--- "
   ]
  },
  {
   "cell_type": "code",
   "execution_count": null,
   "metadata": {},
   "outputs": [],
   "source": [
    "# ---\n",
    "import matplotlib\n",
    "import matplotlib.pyplot as plt\n",
    "import numpy as np\n",
    "# to enable basic visualization tools troughout the whole notebook:\n",
    "!pip install mpld3 >/dev/null 2>&1\n",
    "import mpld3 \n",
    "mpld3.enable_notebook()\n",
    "# note: in case you are using subplots, this tool will not work. In those cells, please add the following command:\n",
    "# mpld3.enable_notebook()\n",
    "# ---\n",
    "\n",
    "# Data for plotting\n",
    "t = np.arange(0.0, 2.0, 0.01)\n",
    "s1 = 1 + np.sin(2 * np.pi * t)\n",
    "s2 = 2 + np.sin(1.5 * np.pi * t)\n",
    "\n",
    "# plot\n",
    "plt.title('Title of the plot', {'size':20})\n",
    "plt.xlabel('Time (s)', color=\"#00a0e4\")\n",
    "plt.ylabel('Angle [º]', color=\"#00a0e4\")\n",
    "plt.plot(t, s1, label='signal 1', color=\"#00bfc2\")\n",
    "plt.plot(t, s2, label='signal 2', color=\"#5756d6\")\n",
    "plt.legend()\n",
    "plt.show()\n",
    "\n"
   ]
  },
  {
   "cell_type": "markdown",
   "metadata": {},
   "source": [
    "#### <div style=\"color:#00a0e4\">   3.2. Table Example  </div>"
   ]
  },
  {
   "cell_type": "code",
   "execution_count": null,
   "metadata": {},
   "outputs": [],
   "source": [
    "#---\n",
    "import pandas as pd\n",
    "import csv\n",
    "#---\n",
    "\n",
    "url = 'https://raw.githubusercontent.com/JoanaFigPinto//notebooksIT/master/Example_Files/example-table.csv'\n",
    "dados = pd.read_csv(url, delimiter = ';')\n",
    "\n",
    "dados\n",
    "dados.style.set_table_styles([dict(selector=\"th\", props=[(\"font-size\", \"125%\"),(\"color\", \"black\"),\n",
    "                               (\"text-align\", \"center\")]), \n",
    "                             dict(selector=\"tr\", props=[(\"color\", \"#00a0e4\"),\n",
    "                               (\"text-align\", \"center\")])])"
   ]
  },
  {
   "cell_type": "markdown",
   "metadata": {},
   "source": [
    "#### <div style=\"color:#00a0e4\">   3.3. Referring to other notebooks/material - Example  </div>"
   ]
  },
  {
   "cell_type": "markdown",
   "metadata": {},
   "source": [
    "Throughout the text, it might be useful to refer to another notebooks or material saved in the repository. <br>\n",
    "That can be used the following example format:  <br>\n",
    "[OpenSignals](../1.Signal_Acquisition/OpenSignals.ipynb) <br>\n",
    "[ScienceJournal](../1.Signal_Acquisition/ScienceJournal.ipynb)"
   ]
  },
  {
   "cell_type": "markdown",
   "metadata": {},
   "source": [
    "#### <div style=\"color:#00a0e4\">   3.4. Notes and Warnings - Example  </div>"
   ]
  },
  {
   "cell_type": "markdown",
   "metadata": {},
   "source": [
    "<div style=\"background:#fada5e;font-family:'arial', monospace; text-align: center; padding: 10px 0; border-radius:10px; width:70%; margin:auto \" >\n",
    "  <span style=\"font-size:20px;position:relative;color:white; \">  Warning! </span> <br>\n",
    "  <div style=\"background:#fff3c4;font-size:12px\"> \n",
    "    The warning must be explained here...      \n",
    "</div>"
   ]
  },
  {
   "cell_type": "markdown",
   "metadata": {},
   "source": [
    "<div style=\"background:#62d321;font-family:'arial', monospace; text-align: center; padding: 10px 0; border-radius:10px; width:70%; margin:auto \" >\n",
    "  <span style=\"font-size:20px;position:relative;color:white; \"> Explore </span> <br>\n",
    "  <div style=\"background:#c5e8b0;font-size:12px\"> \n",
    "    The explore more advice must be explained here...      \n",
    "</div>"
   ]
  },
  {
   "cell_type": "markdown",
   "metadata": {},
   "source": [
    "<div style=\"background:#fe9b29;font-family:'arial', monospace; text-align: center; padding: 10px 0; border-radius:10px; width:70%; margin:auto \" >\n",
    "  <span style=\"font-size:20px;position:relative;color:white; \">  Caution! </span> <br>\n",
    "  <div style=\"background:#ffdab0;font-size:12px\"> \n",
    "    The caution must be explained here...     \n",
    "</div>"
   ]
  },
  {
   "cell_type": "markdown",
   "metadata": {},
   "source": [
    "# III. Explore\n",
    "<br>\n",
    "<div class='h1'  style=\"width:100%; background:#00a0e4;color:#282828;font-family:'arial black'; text-align: center; padding: 7px 0; border-radius: 5px 50px;margin-top:-15px\" > </div>"
   ]
  },
  {
   "cell_type": "markdown",
   "metadata": {},
   "source": [
    "### <div style=\"color:#00a0e4\">  1. Quiz  </div>\n",
    "\n",
    "    1. Modify the links on the document of Section II.1 in such way that, when clicked, the content opens on a new window or tab.\n",
    "\n",
    "    2. Adapt the document of Section II.2 to use an animated GIF image instead of a static image.\n",
    "\n",
    "    3. Replicate the document created in Section II.2 to use the style attribute in each element for styling instead of standard HTML.\n",
    "\n",
    "    4. Using the style attribute, modify the document created in Section II.3 so that the table occupies 100% of the page both in width and height and it is resized automatically as the window is resized.\n",
    "\n",
    "    5. Expand the document created in Section II.3 to include input elements (i.e. text boxes and buttons) to enable a user to manually introduce the systolic and diastolic blood pressure. Re-using code from the previous lab exercises, connect your document to a Python server that can check the blood pressure ranges and display an alarm message (or not) to the user."
   ]
  },
  {
   "cell_type": "markdown",
   "metadata": {},
   "source": [
    "### <div style=\"color:#00a0e4\">  3. Further Reading  </div>"
   ]
  },
  {
   "cell_type": "markdown",
   "metadata": {},
   "source": [
    "<div style=\"height:115px; background:white;border-radius:10px;text-align:center\"> \n",
    "\n",
    "<img src=\"https://www.lx.it.pt/~asmc/predict/images/IT.png\" alt=\"it\" style=\"position: relative; margin-left: 10px; bottom:-55px;max-width:150px;height:auto;\"/> \n",
    "<img src=\"https://cqe.tecnico.ulisboa.pt/files/files/logos/IST_A_RGB_POS.png\"\n",
    "         alt=\"alternate text\" \n",
    "         style=\"position: relative; margin-left: 10px;  bottom:-50px; width:150px;height:auto;\"/>\n",
    "</div> "
   ]
  },
  {
   "cell_type": "markdown",
   "metadata": {},
   "source": [
    "<div style=\"width: 100%; \">\n",
    "    <div style=\"background:#00a0e4;color:white;font-family:'arial', monospace; text-align: center; padding: 50px 0; border-radius:10px; height:10px; width:100%; float:left \" >\n",
    "  <span style=\"font-size:20px;position:relative; top:-25px\">  Suggestions are welcome! </span> <br>\n",
    " <span style=\"font-size:12px;position:relative; top:-25px\">  Please provide us your feedback at jehdwne@it.lx.pt</span> \n",
    "</div>"
   ]
  }
 ],
 "metadata": {
  "kernelspec": {
   "display_name": "Python 2",
   "language": "python",
   "name": "python2"
  },
  "language_info": {
   "codemirror_mode": {
    "name": "ipython",
    "version": 2
   },
   "file_extension": ".py",
   "mimetype": "text/x-python",
   "name": "python",
   "nbconvert_exporter": "python",
   "pygments_lexer": "ipython2",
   "version": "2.7.17"
  }
 },
 "nbformat": 4,
 "nbformat_minor": 4
}
